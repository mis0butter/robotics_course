{
 "cells": [
  {
   "cell_type": "markdown",
   "metadata": {},
   "source": [
    "# Introduction to numerical robotics\n",
    "\n",
    "This notebook is a general introduction to Pinocchio. It shows how to manipulate the geometry model of a robot manipulator: set the configuration, compute the position of the end effector, check for collisions or the distance to an obstacle. The main idea is to give a brief introduction of the general topic: how to discover and learn a robot movement constrained by the environment, using iterative optimization methods.\n"
   ]
  },
  {
   "cell_type": "code",
   "execution_count": 15,
   "metadata": {},
   "outputs": [],
   "source": [
    "import magic_donotload"
   ]
  },
  {
   "cell_type": "markdown",
   "metadata": {},
   "source": [
    "## Set up\n",
    "\n",
    "Let us load the UR5 robot model, the Pinocchio library, some optimization functions from SciPy and the Matplotlib for plotting:"
   ]
  },
  {
   "cell_type": "code",
   "execution_count": 16,
   "metadata": {},
   "outputs": [],
   "source": [
    "import pinocchio as pin\n",
    "from utils.meshcat_viewer_wrapper import MeshcatVisualizer\n",
    "import time\n",
    "import numpy as np\n",
    "from numpy.linalg import inv,norm,pinv,svd,eig\n",
    "from scipy.optimize import fmin_bfgs,fmin_slsqp\n",
    "from utils.load_ur5_with_obstacles import load_ur5_with_obstacles,Target\n",
    "import matplotlib.pylab as plt"
   ]
  },
  {
   "cell_type": "markdown",
   "metadata": {},
   "source": [
    "Let's first load the robot model and display it. For this tutorial, a single utility function will load the robot model and create obstacles around it:"
   ]
  },
  {
   "cell_type": "code",
   "execution_count": 17,
   "metadata": {},
   "outputs": [],
   "source": [
    "robot = load_ur5_with_obstacles(reduced=True)"
   ]
  },
  {
   "cell_type": "markdown",
   "metadata": {},
   "source": [
    "The next few lines initialize a 3D viewer."
   ]
  },
  {
   "cell_type": "code",
   "execution_count": 18,
   "metadata": {},
   "outputs": [
    {
     "name": "stdout",
     "output_type": "stream",
     "text": [
      "You can open the visualizer by visiting the following URL:\n",
      "http://127.0.0.1:7001/static/\n"
     ]
    }
   ],
   "source": [
    "viz = MeshcatVisualizer(robot)\n",
    "viz.display(robot.q0)"
   ]
  },
  {
   "cell_type": "code",
   "execution_count": 19,
   "metadata": {},
   "outputs": [
    {
     "data": {
      "text/html": [
       "\n",
       "            <div style=\"height: 400px; width: 100%; overflow-x: auto; overflow-y: hidden; resize: both\">\n",
       "            <iframe src=\"http://127.0.0.1:7001/static/\" style=\"width: 100%; height: 100%; border: none\"></iframe>\n",
       "            </div>\n",
       "            "
      ],
      "text/plain": [
       "<IPython.core.display.HTML object>"
      ]
     },
     "execution_count": 19,
     "metadata": {},
     "output_type": "execute_result"
    }
   ],
   "source": [
    "hasattr(viz.viewer, 'jupyter_cell') and viz.viewer.jupyter_cell()"
   ]
  },
  {
   "cell_type": "markdown",
   "metadata": {},
   "source": [
    "The robot and the red obstacles are encoded in the `robot` object (we will not look in depth at what is inside this object). You can display a new configuration of the robot with `viz.display`. It takes a `numpy.array` of dimension 2 as input:"
   ]
  },
  {
   "cell_type": "code",
   "execution_count": 20,
   "metadata": {},
   "outputs": [],
   "source": [
    "viz.display(np.array([3.,-1.5])) "
   ]
  },
  {
   "cell_type": "markdown",
   "metadata": {},
   "source": [
    "We also set up a target with is visualized as a green dot:"
   ]
  },
  {
   "cell_type": "code",
   "execution_count": 21,
   "metadata": {},
   "outputs": [],
   "source": [
    "target_pos = np.array([.5,.5])\n",
    "target = Target(viz,position = target_pos)"
   ]
  },
  {
   "cell_type": "markdown",
   "metadata": {},
   "source": [
    "The `Target` object is the green dot that the robot should reach. You can change the target position by editing `target.position`, and display the new position with `target.display()`."
   ]
  },
  {
   "cell_type": "markdown",
   "metadata": {},
   "source": [
    "## Using the robot model\n",
    "The robot is originally a 6 degrees-of-freedom (DOF) manipulator. Yet to make the example simple, we will only use its joints 1 and 2. The model has simply be loaded with \"frozen\" extra joints, which will then not appear in this notebook. Reload the model with `reduced=False` if you want to recover a model with full DOF."
   ]
  },
  {
   "cell_type": "markdown",
   "metadata": {},
   "source": [
    "The following function computes the position of the end effector (in 2d):"
   ]
  },
  {
   "cell_type": "code",
   "execution_count": 22,
   "metadata": {},
   "outputs": [],
   "source": [
    "def get_position_end_eff(q):\n",
    "     '''\n",
    "     Return the 2d position of the end effector.\n",
    "     '''\n",
    "     pin.framesForwardKinematics(robot.model,robot.data,q)\n",
    "     return robot.data.oMf[-1].translation[[0,2]]"
   ]
  },
  {
   "cell_type": "markdown",
   "metadata": {},
   "source": [
    "This function checks if the robot is in collision, and returns `True` if a collision is detected."
   ]
  },
  {
   "cell_type": "code",
   "execution_count": 23,
   "metadata": {},
   "outputs": [],
   "source": [
    "def check_collision(q):\n",
    "     '''\n",
    "     Return true if in collision, false otherwise.\n",
    "     '''\n",
    "     pin.updateGeometryPlacements(robot.model,robot.data,robot.collision_model,robot.collision_data,q)\n",
    "     return pin.computeCollisions(robot.collision_model,robot.collision_data,False)"
   ]
  },
  {
   "cell_type": "markdown",
   "metadata": {},
   "source": [
    "The next function computes the distance between the end effector and the target."
   ]
  },
  {
   "cell_type": "markdown",
   "metadata": {},
   "source": [
    "Your code:"
   ]
  },
  {
   "cell_type": "code",
   "execution_count": 24,
   "metadata": {},
   "outputs": [],
   "source": [
    "def compute_distance_end_target(q):\n",
    "     '''\n",
    "     Return the distance between the end effector end the target (2d).\n",
    "     '''\n",
    "     return norm(get_position_end_eff(q)-target.position)"
   ]
  },
  {
   "cell_type": "markdown",
   "metadata": {},
   "source": [
    "Solution"
   ]
  },
  {
   "cell_type": "code",
   "execution_count": null,
   "metadata": {},
   "outputs": [],
   "source": [
    "%do_not_load tp0/generated/simple_path_planning_dist"
   ]
  },
  {
   "cell_type": "markdown",
   "metadata": {},
   "source": [
    "## Random search of a valid configuration\n",
    "The free space is difficult to represent explicitely. We can sample the configuration space until a free configuration is found:"
   ]
  },
  {
   "cell_type": "code",
   "execution_count": 25,
   "metadata": {},
   "outputs": [],
   "source": [
    "def sample_random_config(check=False):\n",
    "    '''\n",
    "    Return a random configuration. If check is True, this\n",
    "    configuration is not is collision\n",
    "    '''\n",
    "    while True:\n",
    "        q = np.random.rand(2)*6.4-3.2  # sample between -3.2 and +3.2.\n",
    "        if not check or not check_collision(q):\n",
    "            return q"
   ]
  },
  {
   "cell_type": "markdown",
   "metadata": {},
   "source": [
    "The solution if needed:"
   ]
  },
  {
   "cell_type": "code",
   "execution_count": null,
   "metadata": {},
   "outputs": [],
   "source": [
    "%do_not_load tp0/generated/simple_path_planning_qrand"
   ]
  },
  {
   "cell_type": "code",
   "execution_count": 26,
   "metadata": {},
   "outputs": [],
   "source": [
    "viz.display(sample_random_config(check=True))"
   ]
  },
  {
   "cell_type": "markdown",
   "metadata": {},
   "source": [
    "Let's now find a valid configuration that is arbitrarily close to the target: sample until dist is small enough and coll is false (you may want to display the random trials inside the loop)."
   ]
  },
  {
   "cell_type": "markdown",
   "metadata": {},
   "source": [
    "## From a random configuration to the target\n",
    "Let' s now start from a random configuration. How can we find a path that bring the robot toward the target without touching the obstacles. Any idea?"
   ]
  },
  {
   "cell_type": "code",
   "execution_count": 28,
   "metadata": {},
   "outputs": [],
   "source": [
    "def walk_random_descent(q0 = None):\n",
    "     \n",
    "     q = sample_random_config(check=True) if q0 is None else q0\n",
    "     hist = [ q.copy() ]\n",
    "     \n",
    "     for i in range(100):\n",
    "          \n",
    "          # Choose a random step and apply \n",
    "          dq = sample_random_config()*.1 \n",
    "          qtry = q + dq \n",
    "                    \n",
    "          # if distance decreases without collision ... \n",
    "          if compute_distance_end_target(q) > compute_distance_end_target(qtry) and not check_collision(qtry): \n",
    "               \n",
    "               q = qtry                 # keep the step\n",
    "               hist.append(q.copy())    # keep a trace of it\n",
    "               viz.display(q)           # display it\n",
    "               time.sleep(5e-3)         # and sleep for a short while\n",
    "               \n",
    "     return hist "
   ]
  },
  {
   "cell_type": "markdown",
   "metadata": {},
   "source": [
    "Clue:\n",
    "- Use a random walk sampling random direction to extend\n",
    "- Bias the walk toward the goal by keeping the extension only if it is closer to the goal"
   ]
  },
  {
   "cell_type": "markdown",
   "metadata": {},
   "source": [
    "And solution if needed"
   ]
  },
  {
   "cell_type": "code",
   "execution_count": null,
   "metadata": {},
   "outputs": [],
   "source": [
    "%do_not_load tp0/generated/simple_path_planning_random_descent"
   ]
  },
  {
   "cell_type": "code",
   "execution_count": 29,
   "metadata": {},
   "outputs": [
    {
     "data": {
      "text/plain": [
       "[array([-2.56381286, -0.72086863]),\n",
       " array([-2.4239068 , -0.99442995]),\n",
       " array([-2.1314995, -1.0772491]),\n",
       " array([-1.87030078, -1.27519837]),\n",
       " array([-1.77790827, -1.19561702]),\n",
       " array([-1.62844343, -1.1323628 ]),\n",
       " array([-1.61475491, -1.18601852]),\n",
       " array([-1.55420437, -1.32294711]),\n",
       " array([-1.50495762, -1.42575317]),\n",
       " array([-1.43034855, -1.45791769]),\n",
       " array([-1.36126248, -1.75964241]),\n",
       " array([-1.18489876, -1.86621032]),\n",
       " array([-1.08627642, -2.09805074]),\n",
       " array([-1.04020838, -2.37305361]),\n",
       " array([-0.87445965, -2.2544713 ])]"
      ]
     },
     "execution_count": 29,
     "metadata": {},
     "output_type": "execute_result"
    }
   ],
   "source": [
    "walk_random_descent()"
   ]
  },
  {
   "cell_type": "markdown",
   "metadata": {},
   "source": [
    "## Configuration space\n",
    "Let's try to have a better look of the configuration space. In this case, it is easy, as it is dimension 2: we can sample it exhaustively and plot it in 2D. For that, let's introduce another function to compute the distance to collision:"
   ]
  },
  {
   "cell_type": "code",
   "execution_count": null,
   "metadata": {},
   "outputs": [],
   "source": [
    "def compute_min_distance_env(q):\n",
    "     ''' \n",
    "     Return the minimal distance between robot and environment. \n",
    "     ''' \n",
    "     \n",
    "     pin.updateGeometryPlacements(robot.model,robot.data,robot.collision_model,robot.collision_data,q)\n",
    "     \n",
    "     is_collision = pin.computeCollisions(robot.collision_model,robot.collision_data,False)\n",
    "     \n",
    "     if is_collision: \n",
    "         return 0.0 \n",
    "    \n",
    "     idx = pin.computeDistances(robot.collision_model,robot.collision_data)\n",
    "     min_distance = robot.collision_data.distanceResults[idx].min_distance \n",
    "     \n",
    "     return min_distance "
   ]
  },
  {
   "cell_type": "markdown",
   "metadata": {},
   "source": [
    "Now, let's sample the configuration space and plot the distance-to-target and the distance-to-obstacle field (I put 500 samples to spare your CPU, but you need at least 10x more for obtaining a good picture)."
   ]
  },
  {
   "cell_type": "code",
   "execution_count": null,
   "metadata": {},
   "outputs": [],
   "source": [
    "def sample_config_space(num_samples = 500):\n",
    "     ''' \n",
    "     Sample num_samples configurations and store them in two lists \n",
    "     depending if the configuration is in free space (hfree) or in \n",
    "     collision (hcol), along with the distance to the target and the \n",
    "     distance to the obstacles. \n",
    "     ''' \n",
    "     \n",
    "     hist_coll = []\n",
    "     hist_free = []\n",
    "     \n",
    "     for i in range(num_samples):\n",
    "          \n",
    "          q = sample_random_config(False)\n",
    "          \n",
    "          if not check_collision(q):\n",
    "               hist_free.append( list(q.flat) + [ compute_distance_end_target(q), find_min_collision_distance(q) ])\n",
    "          else:\n",
    "               hist_coll.append( list(q.flat) + [ compute_distance_end_target(q), 1e-2 ]) \n",
    "               \n",
    "     return hist_coll, hist_free \n",
    "\n",
    "# ---------------------------------- \n",
    "\n",
    "def plot_config_space(hist_coll, hist_free, marker_size = 20):\n",
    "     '''\n",
    "     Plot 2 \"scatter\" plots: the first one plot the distance to the target for \n",
    "     each configuration, the second plots the distance to the obstacles (axis q1,q2, \n",
    "     distance in the color space).\n",
    "     '''\n",
    "     \n",
    "     hist_total = hist_coll + hist_free \n",
    "     h = np.array(hist_total) \n",
    "     \n",
    "     plt.subplot(2,1,1)\n",
    "     plt.scatter(h[:,0], h[:,1], c = h[:,2], s = marker_size,lw = 0)\n",
    "     plt.title(\"Distance to the target\")\n",
    "     plt.colorbar() \n",
    "     \n",
    "     plt.subplot(2,1,2)\n",
    "     plt.scatter(h[:,0], h[:,1], c = h[:,3], s = marker_size, lw = 0)\n",
    "     plt.title(\"Distance to the obstacles\")\n",
    "     plt.colorbar() "
   ]
  },
  {
   "cell_type": "code",
   "execution_count": null,
   "metadata": {},
   "outputs": [],
   "source": [
    "hist_coll, hist_free = sample_config_space(5000) "
   ]
  },
  {
   "cell_type": "markdown",
   "metadata": {},
   "source": [
    "You can try to match your representation of the free space of the robot with this plot. \n",
    "As an example, you can display on this plot a feasible trajectory discover by random walk from an init position."
   ]
  },
  {
   "cell_type": "code",
   "execution_count": null,
   "metadata": {},
   "outputs": [],
   "source": [
    "# Plot random trajectories in the same plot\n",
    "qinit = np.array([-1.1, -3. ])\n",
    "for i in range(100):\n",
    "     traj = walk_random_descent(qinit)\n",
    "     if compute_distance_end_target(traj[-1])<5e-2:\n",
    "          print('We found a good traj!')\n",
    "          break\n",
    "traj = np.array(traj)\n",
    "\n",
    "# Chose trajectory end to be in [-pi,pi]\n",
    "qend = (traj[-1]+np.pi) % (2*np.pi) - np.pi\n",
    "\n",
    "# Take the entire trajectory it modulo 2 pi\n",
    "traj += (qend-traj[-1])\n",
    "\n",
    "plt.plot(traj[:,0],traj[:,1],'r',lw=5) "
   ]
  },
  {
   "cell_type": "markdown",
   "metadata": {},
   "source": [
    "Here is a solution:"
   ]
  },
  {
   "cell_type": "code",
   "execution_count": null,
   "metadata": {},
   "outputs": [],
   "source": [
    "%do_not_load tp0/generated/simple_path_planning_traj"
   ]
  },
  {
   "cell_type": "code",
   "execution_count": null,
   "metadata": {},
   "outputs": [],
   "source": [
    "# Add your traj to the plot, be careful !\n",
    "\n",
    "plot_config_space(hist_coll, hist_free) \n",
    "\n",
    "plt.plot(traj[:,0],traj[:,1],'r',lw=5) "
   ]
  },
  {
   "cell_type": "markdown",
   "metadata": {},
   "source": [
    "## Optimize the distance under non-collision constraint\n",
    "Finally, let's use one of the optimizers from SciPy to search for a robot configuration that minimizes the distance to the target, under the constraint that the distance to collision is positive.\n",
    "For that, we define a *cost function* $cost: \\mathcal{C} \\to \\mathbb{R}$ (taking the robot configuration and returning a scalar) and a constraint function (taking again the robot configuration and returning a scalar that should be positive). We additionally use the \"callback\" functionnality of the solver to render the robot configuration corresponding to the current value of the decision variable inside the solver algorithm.\n",
    "We use the \"SLSQP\" solver from SciPy, which implements a \"sequential quadratic program\" algorithm and accepts constraints.\n"
   ]
  },
  {
   "cell_type": "markdown",
   "metadata": {},
   "source": [
    "The constraint is a positive distance with a margin on $\\epsilon$"
   ]
  },
  {
   "cell_type": "code",
   "execution_count": null,
   "metadata": {},
   "outputs": [],
   "source": [
    "epsilon = .01"
   ]
  },
  {
   "cell_type": "code",
   "execution_count": null,
   "metadata": {},
   "outputs": [],
   "source": [
    "def compute_cost(q):\n",
    "     '''\n",
    "     Cost function: distance to the target.\n",
    "     '''\n",
    "     return compute_distance_end_target(q) ** 2\n",
    "\n",
    "\n",
    "def define_constraint(q):\n",
    "     '''\n",
    "     Constraint function: distance to the obstacle should be strictly positive.\n",
    "     '''\n",
    "     min_collision_dist = 0.01  # [m]\n",
    "     return find_min_collision_distance(q) - min_collision_dist\n",
    "\n",
    "\n",
    "def display_callback(q):\n",
    "     ''' \n",
    "     At each optimization step, display the robot configuration.\n",
    "     ''' \n",
    "     viz.display(q)\n",
    "     time.sleep(0.01)\n",
    "\n",
    "\n",
    "def optimize():\n",
    "     '''\n",
    "     Optimize from an initial random configuration to discover a \n",
    "     collision-free configuration as close as possible to the target. \n",
    "\n",
    "     Returns: results from fmin_slsqp optimization tuple containing:\n",
    "          - x:     The optimized configuration\n",
    "          - fx:    Final function value \n",
    "          - its:   Number of iterations\n",
    "          - imode: Exit mode from optimizer\n",
    "          - smode: Status message\n",
    "     '''\n",
    "     \n",
    "     # Start from a random configuration that is collision-free\n",
    "     x0 = sample_random_config(check = True)\n",
    "\n",
    "     # Set objective function (minimize distance to target)\n",
    "     function = compute_cost\n",
    "\n",
    "     # Set constraint function (stay away from obstacles)\n",
    "     inequality_constraints = define_constraint\n",
    "\n",
    "     # Function to call at each iteration to visualize progress\n",
    "     callback = display_callback\n",
    "\n",
    "     # Get detailed output from optimizer\n",
    "     full_output = 1\n",
    "     \n",
    "     # Run Sequential Least Squares Programming optimization\n",
    "     return fmin_slsqp(  x0          = x0,\n",
    "                         func        = function,\n",
    "                         f_ieqcons   = inequality_constraints,\n",
    "                         callback    = callback,\n",
    "                         full_output = full_output)\n",
    "     \n",
    "optimize() "
   ]
  },
  {
   "cell_type": "markdown",
   "metadata": {},
   "source": [
    "Here is a valid solution:"
   ]
  },
  {
   "cell_type": "code",
   "execution_count": null,
   "metadata": {},
   "outputs": [],
   "source": [
    "%do_not_load tp0/generated/simple_path_planning_optim"
   ]
  },
  {
   "cell_type": "markdown",
   "metadata": {},
   "source": [
    "Look at the output of the solver. It always returns a variable value, but sometimes the algorithm fails being traped in an unfeasible region. Most of the time, the solver converges to a local minimum where the final distance to the target is nonzero"
   ]
  },
  {
   "cell_type": "markdown",
   "metadata": {},
   "source": [
    "Now you can write a planner that try to optimize and retry until a valid solition is found!"
   ]
  },
  {
   "cell_type": "code",
   "execution_count": null,
   "metadata": {},
   "outputs": [],
   "source": [
    "# Your solution\n",
    "while True:\n",
    "     \n",
    "    result = optimize()\n",
    "    q      = result[0]\n",
    "    \n",
    "    viz.display(q)\n",
    "    \n",
    "    if result[4] == 'Optimization terminated successfully' and result[1]<1e-6:\n",
    "        print('Finally successful!')\n",
    "        break \n",
    "   \n",
    "    print(\"Failed ... let's try again! \")"
   ]
  },
  {
   "cell_type": "markdown",
   "metadata": {},
   "source": [
    "And the solution if you need it:"
   ]
  },
  {
   "cell_type": "code",
   "execution_count": null,
   "metadata": {},
   "outputs": [],
   "source": [
    "%do_not_load tp0/generated/simple_path_planning_useit"
   ]
  }
 ],
 "metadata": {
  "kernelspec": {
   "display_name": "robotics_course",
   "language": "python",
   "name": "python3"
  },
  "language_info": {
   "codemirror_mode": {
    "name": "ipython",
    "version": 3
   },
   "file_extension": ".py",
   "mimetype": "text/x-python",
   "name": "python",
   "nbconvert_exporter": "python",
   "pygments_lexer": "ipython3",
   "version": "3.10.15"
  }
 },
 "nbformat": 4,
 "nbformat_minor": 4
}
